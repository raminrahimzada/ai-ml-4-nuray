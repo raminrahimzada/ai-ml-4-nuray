{
 "cells": [
  {
   "cell_type": "code",
   "execution_count": 1,
   "id": "46bcfcc1",
   "metadata": {
    "_cell_guid": "b1076dfc-b9ad-4769-8c92-a6c4dae69d19",
    "_uuid": "8f2839f25d086af736a60e9eeb907d3b93b6e0e5",
    "execution": {
     "iopub.execute_input": "2025-08-07T16:22:03.819359Z",
     "iopub.status.busy": "2025-08-07T16:22:03.818948Z",
     "iopub.status.idle": "2025-08-07T16:22:03.829130Z",
     "shell.execute_reply": "2025-08-07T16:22:03.827953Z"
    },
    "papermill": {
     "duration": 0.01646,
     "end_time": "2025-08-07T16:22:03.830827",
     "exception": false,
     "start_time": "2025-08-07T16:22:03.814367",
     "status": "completed"
    },
    "tags": []
   },
   "outputs": [],
   "source": [
    "import numpy as np # linear algebra\n",
    "my_arr = [1, 4, 5, 2]"
   ]
  },
  {
   "cell_type": "code",
   "execution_count": 2,
   "id": "084537e6",
   "metadata": {
    "collapsed": true,
    "execution": {
     "iopub.execute_input": "2025-08-07T16:22:03.838079Z",
     "iopub.status.busy": "2025-08-07T16:22:03.837678Z",
     "iopub.status.idle": "2025-08-07T16:22:03.844778Z",
     "shell.execute_reply": "2025-08-07T16:22:03.843746Z"
    },
    "jupyter": {
     "outputs_hidden": true,
     "source_hidden": true
    },
    "papermill": {
     "duration": 0.012327,
     "end_time": "2025-08-07T16:22:03.846495",
     "exception": false,
     "start_time": "2025-08-07T16:22:03.834168",
     "status": "completed"
    },
    "tags": []
   },
   "outputs": [
    {
     "name": "stdout",
     "output_type": "stream",
     "text": [
      "1 1\n"
     ]
    }
   ],
   "source": [
    "def Min(arr):\n",
    "    minimum = arr[0]\n",
    "    for i in range(len(arr)):\n",
    "        if arr[i] < minimum:\n",
    "            minimum = arr[i]\n",
    "    return minimum\n",
    "\n",
    "print(Min(my_arr), min(my_arr))"
   ]
  },
  {
   "cell_type": "code",
   "execution_count": 3,
   "id": "7031bf69",
   "metadata": {
    "collapsed": true,
    "execution": {
     "iopub.execute_input": "2025-08-07T16:22:03.853402Z",
     "iopub.status.busy": "2025-08-07T16:22:03.853123Z",
     "iopub.status.idle": "2025-08-07T16:22:03.858852Z",
     "shell.execute_reply": "2025-08-07T16:22:03.857916Z"
    },
    "jupyter": {
     "outputs_hidden": true,
     "source_hidden": true
    },
    "papermill": {
     "duration": 0.010978,
     "end_time": "2025-08-07T16:22:03.860397",
     "exception": false,
     "start_time": "2025-08-07T16:22:03.849419",
     "status": "completed"
    },
    "tags": []
   },
   "outputs": [
    {
     "name": "stdout",
     "output_type": "stream",
     "text": [
      "12 12\n"
     ]
    }
   ],
   "source": [
    "def Sum(arr):\n",
    "    total = 0\n",
    "    for i in arr:\n",
    "        total += i\n",
    "    return total\n",
    "\n",
    "print(Sum(my_arr), sum(my_arr))"
   ]
  },
  {
   "cell_type": "code",
   "execution_count": 4,
   "id": "4f68129d",
   "metadata": {
    "collapsed": true,
    "execution": {
     "iopub.execute_input": "2025-08-07T16:22:03.867252Z",
     "iopub.status.busy": "2025-08-07T16:22:03.866917Z",
     "iopub.status.idle": "2025-08-07T16:22:03.872520Z",
     "shell.execute_reply": "2025-08-07T16:22:03.871553Z"
    },
    "jupyter": {
     "outputs_hidden": true,
     "source_hidden": true
    },
    "papermill": {
     "duration": 0.010971,
     "end_time": "2025-08-07T16:22:03.874269",
     "exception": false,
     "start_time": "2025-08-07T16:22:03.863298",
     "status": "completed"
    },
    "tags": []
   },
   "outputs": [
    {
     "name": "stdout",
     "output_type": "stream",
     "text": [
      "5 5\n"
     ]
    }
   ],
   "source": [
    "def Max(arr):\n",
    "    maximum = arr[0]\n",
    "    for i in range(len(arr)):\n",
    "        if arr[i] > maximum:\n",
    "            maximum = arr[i]\n",
    "    return maximum\n",
    "\n",
    "print(Max(my_arr), max(my_arr))"
   ]
  },
  {
   "cell_type": "code",
   "execution_count": 5,
   "id": "5abdc72c",
   "metadata": {
    "collapsed": true,
    "execution": {
     "iopub.execute_input": "2025-08-07T16:22:03.881481Z",
     "iopub.status.busy": "2025-08-07T16:22:03.880893Z",
     "iopub.status.idle": "2025-08-07T16:22:03.886140Z",
     "shell.execute_reply": "2025-08-07T16:22:03.885084Z"
    },
    "jupyter": {
     "outputs_hidden": true,
     "source_hidden": true
    },
    "papermill": {
     "duration": 0.010431,
     "end_time": "2025-08-07T16:22:03.887758",
     "exception": false,
     "start_time": "2025-08-07T16:22:03.877327",
     "status": "completed"
    },
    "tags": []
   },
   "outputs": [
    {
     "name": "stdout",
     "output_type": "stream",
     "text": [
      "3.0\n"
     ]
    }
   ],
   "source": [
    "def Mean(arr):\n",
    "    return sum(arr)/len(arr)\n",
    "print(Mean(my_arr))"
   ]
  },
  {
   "cell_type": "code",
   "execution_count": 6,
   "id": "e12ca18b",
   "metadata": {
    "collapsed": true,
    "execution": {
     "iopub.execute_input": "2025-08-07T16:22:03.894634Z",
     "iopub.status.busy": "2025-08-07T16:22:03.894355Z",
     "iopub.status.idle": "2025-08-07T16:22:03.900455Z",
     "shell.execute_reply": "2025-08-07T16:22:03.899372Z"
    },
    "jupyter": {
     "outputs_hidden": true
    },
    "papermill": {
     "duration": 0.011167,
     "end_time": "2025-08-07T16:22:03.901824",
     "exception": false,
     "start_time": "2025-08-07T16:22:03.890657",
     "status": "completed"
    },
    "tags": []
   },
   "outputs": [
    {
     "name": "stdout",
     "output_type": "stream",
     "text": [
      "3.0\n"
     ]
    }
   ],
   "source": [
    "def Median(arr):\n",
    "    arr.sort()\n",
    "    x = len(arr) // 2\n",
    "    if len(arr)%2 == 0:\n",
    "        return (arr[x]+arr[(x - 1)])/2\n",
    "    else:\n",
    "        return arr[x]\n",
    "print(Median(my_arr))"
   ]
  },
  {
   "cell_type": "code",
   "execution_count": 7,
   "id": "7b7e5885",
   "metadata": {
    "collapsed": true,
    "execution": {
     "iopub.execute_input": "2025-08-07T16:22:03.909937Z",
     "iopub.status.busy": "2025-08-07T16:22:03.909645Z",
     "iopub.status.idle": "2025-08-07T16:22:03.915934Z",
     "shell.execute_reply": "2025-08-07T16:22:03.914767Z"
    },
    "jupyter": {
     "outputs_hidden": true
    },
    "papermill": {
     "duration": 0.012444,
     "end_time": "2025-08-07T16:22:03.917486",
     "exception": false,
     "start_time": "2025-08-07T16:22:03.905042",
     "status": "completed"
    },
    "tags": []
   },
   "outputs": [
    {
     "name": "stdout",
     "output_type": "stream",
     "text": [
      "2.5\n"
     ]
    }
   ],
   "source": [
    "# this is population variance\n",
    "def Variance(arr):\n",
    "    x_squared_sum = 0\n",
    "    for i in arr:\n",
    "        x_squared_sum += i**2\n",
    "    return (x_squared_sum/len(arr)) - (Mean(arr)**2)\n",
    "\n",
    "print(Variance(my_arr))"
   ]
  },
  {
   "cell_type": "code",
   "execution_count": 8,
   "id": "cc2e673d",
   "metadata": {
    "collapsed": true,
    "execution": {
     "iopub.execute_input": "2025-08-07T16:22:03.925289Z",
     "iopub.status.busy": "2025-08-07T16:22:03.924895Z",
     "iopub.status.idle": "2025-08-07T16:22:03.931974Z",
     "shell.execute_reply": "2025-08-07T16:22:03.930869Z"
    },
    "jupyter": {
     "outputs_hidden": true
    },
    "papermill": {
     "duration": 0.013006,
     "end_time": "2025-08-07T16:22:03.933523",
     "exception": false,
     "start_time": "2025-08-07T16:22:03.920517",
     "status": "completed"
    },
    "tags": []
   },
   "outputs": [
    {
     "name": "stdout",
     "output_type": "stream",
     "text": [
      "-24\n"
     ]
    }
   ],
   "source": [
    "def dot_product1(arr1, arr2):\n",
    "    dot_product = 0\n",
    "    if len(arr1) != len(arr2):\n",
    "        return \"Not equal lengths\"\n",
    "    for i in range(len(arr1)):\n",
    "        dot_product += arr1[i]*arr2[i]\n",
    "    return dot_product\n",
    "\n",
    "print(dot_product1([0, 2, -5], [10, 3, 6]))"
   ]
  },
  {
   "cell_type": "code",
   "execution_count": 9,
   "id": "e13cb7ae",
   "metadata": {
    "collapsed": true,
    "execution": {
     "iopub.execute_input": "2025-08-07T16:22:03.940615Z",
     "iopub.status.busy": "2025-08-07T16:22:03.940310Z",
     "iopub.status.idle": "2025-08-07T16:22:03.946325Z",
     "shell.execute_reply": "2025-08-07T16:22:03.945361Z"
    },
    "jupyter": {
     "outputs_hidden": true,
     "source_hidden": true
    },
    "papermill": {
     "duration": 0.011337,
     "end_time": "2025-08-07T16:22:03.947814",
     "exception": false,
     "start_time": "2025-08-07T16:22:03.936477",
     "status": "completed"
    },
    "tags": []
   },
   "outputs": [
    {
     "name": "stdout",
     "output_type": "stream",
     "text": [
      "-4\n",
      "-4\n"
     ]
    }
   ],
   "source": [
    "array1 = np.array([2, 6, -2])\n",
    "array2 = np.array([0, 1, 5])\n",
    "print(np.dot(array1, array2))\n",
    "print(array1 @ array2)"
   ]
  },
  {
   "cell_type": "code",
   "execution_count": null,
   "id": "41aeacd2",
   "metadata": {
    "papermill": {
     "duration": 0.002745,
     "end_time": "2025-08-07T16:22:03.953836",
     "exception": false,
     "start_time": "2025-08-07T16:22:03.951091",
     "status": "completed"
    },
    "tags": []
   },
   "outputs": [],
   "source": []
  }
 ],
 "metadata": {
  "kaggle": {
   "accelerator": "none",
   "dataSources": [],
   "dockerImageVersionId": 31089,
   "isGpuEnabled": false,
   "isInternetEnabled": false,
   "language": "python",
   "sourceType": "notebook"
  },
  "kernelspec": {
   "display_name": "Python 3",
   "language": "python",
   "name": "python3"
  },
  "language_info": {
   "codemirror_mode": {
    "name": "ipython",
    "version": 3
   },
   "file_extension": ".py",
   "mimetype": "text/x-python",
   "name": "python",
   "nbconvert_exporter": "python",
   "pygments_lexer": "ipython3",
   "version": "3.11.13"
  },
  "papermill": {
   "default_parameters": {},
   "duration": 5.617317,
   "end_time": "2025-08-07T16:22:04.376076",
   "environment_variables": {},
   "exception": null,
   "input_path": "__notebook__.ipynb",
   "output_path": "__notebook__.ipynb",
   "parameters": {},
   "start_time": "2025-08-07T16:21:58.758759",
   "version": "2.6.0"
  }
 },
 "nbformat": 4,
 "nbformat_minor": 5
}
